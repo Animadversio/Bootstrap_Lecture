{
 "cells": [
  {
   "cell_type": "markdown",
   "metadata": {
    "slideshow": {
     "slide_type": "slide"
    }
   },
   "source": [
    "# Motivation\n",
    "## First Scenario\n",
    "* Casually, we observed some \"statistical structure\" in the data! \n",
    "    * These 2 neurons usually fire in synchrony!\n",
    "    * The neuron fires a lot when we present right moving bars! And then it fires less spikes to leftward bars and vertical ones!\n",
    "    * My mice seem to groom more after drinking, these 2 behaviors seem to happen consecutively a lot!\n",
    "    * The LFP power in some band seems to ramp up throughout experiment! "
   ]
  },
  {
   "cell_type": "markdown",
   "metadata": {
    "slideshow": {
     "slide_type": "subslide"
    }
   },
   "source": [
    "* But does that structure really exists? Or it's just variability + observer's confirmation bias?\n",
    "* We want to describe it with some Index / Statistics / Score to summarize the effect to low (1) dimension. \n",
    "    * Unlike t-test, sometimes the null distribution (non-existing) is not easy to construct parametrically! \n",
    "* $\\to$ Bootstrapping to test hypothesis (giving significance level)"
   ]
  },
  {
   "cell_type": "markdown",
   "metadata": {
    "slideshow": {
     "slide_type": "subslide"
    }
   },
   "source": [
    "> *Neuroscientists are notoriously good at inventing indices.....*"
   ]
  },
  {
   "cell_type": "markdown",
   "metadata": {
    "slideshow": {
     "slide_type": "subslide"
    }
   },
   "source": [
    "## Second Scenario\n",
    "\n",
    "* We come up with some model to describe the phenomena! Neuron's firing rate as a function of stimuli location. $r=f(\\theta)$ \n",
    "* We get some data, and estimate the model parameters through fitting!\n",
    "* How well do I know about the parameter? What's the variability of the estimated parameters?\n",
    "* $\\to$ Bootstrapping for parameter estimation. (giving confidence interval)"
   ]
  },
  {
   "cell_type": "markdown",
   "metadata": {
    "slideshow": {
     "slide_type": "slide"
    }
   },
   "source": [
    "![Cycle of Science](http://bebi103.caltech.edu.s3-website-us-east-1.amazonaws.com/2019a/content/_images/cycle_of_science.png)\n"
   ]
  },
  {
   "cell_type": "markdown",
   "metadata": {
    "slideshow": {
     "slide_type": "slide"
    }
   },
   "source": [
    "# Bootstrapping and Shuffling Test\n"
   ]
  },
  {
   "cell_type": "markdown",
   "metadata": {
    "slideshow": {
     "slide_type": "subslide"
    }
   },
   "source": [
    "## Confidence Interval vs Significance Level"
   ]
  },
  {
   "cell_type": "markdown",
   "metadata": {
    "slideshow": {
     "slide_type": "subslide"
    }
   },
   "source": [
    "* Confidence interval and Signifiance both represent some \"robustness\" of conclusion, i.e. how fragile it is. "
   ]
  },
  {
   "cell_type": "markdown",
   "metadata": {
    "slideshow": {
     "slide_type": "subslide"
    }
   },
   "source": [
    "* Confidence Inverval applies to **parameter estimation** scenario, \n",
    "    * Cf. Homework 3, given a set of coin flipping results $X=[0,1,0,0,1,1,1,1,1,1]$, how can I know the bias $b$ of underlying coin?\n",
    "    * What are the possible **biases** that can generate this data ? (Confidence Interval)\n",
    "* \"I estimate some underlying parameter $b$ from data $X$ (through model fitting), can I give a range of parameter that are all possible?\" "
   ]
  },
  {
   "cell_type": "markdown",
   "metadata": {
    "slideshow": {
     "slide_type": "subslide"
    }
   },
   "source": [
    "* Significance Level applies to **hypothesis testing** scenario \n",
    "    * Cf. Homework 3, given a set of coin flipping results $X=[0,1,0,0,1,1,1,1,1,1]$, the p value of this result if the coin is fair? \n",
    "    * p value is the probability of getting this number of heads (7) or more imblanced heads. \n",
    "* \"How (un)likely that my data (or more extreme data) is geneated by the world, if it conform to an uninteresting (null) hypothesis? (like $b=0.5$)\""
   ]
  },
  {
   "cell_type": "markdown",
   "metadata": {
    "slideshow": {
     "slide_type": "subslide"
    }
   },
   "source": [
    "* The CI and significance are answering the same question in different manner!\n",
    "    * Cf. Homework 3\n",
    "    * If the 95% confidence interval estimation of bias (from $X$) is $b\\in[.55,.65]$, then claiming \"coin isn't fair\" have less than 5% chance to be wrong. \n",
    "    * A fair coin have less than 5% chance of generating your data $X$, then claiming \"coin isn't fair\" is also justified."
   ]
  },
  {
   "cell_type": "markdown",
   "metadata": {
    "slideshow": {
     "slide_type": "slide"
    }
   },
   "source": [
    "## Why we care bootstrap?"
   ]
  },
  {
   "cell_type": "markdown",
   "metadata": {},
   "source": [
    "* We already have t-test and ANOVA. \n",
    "* Both assume a Gaussian random variable model when generating your null distribution. "
   ]
  },
  {
   "cell_type": "markdown",
   "metadata": {
    "slideshow": {
     "slide_type": "subslide"
    }
   },
   "source": [
    "* So we know the expected value ($t=0$ or $F=1$) and variability $t-distribution, F-distribution$, for statistics!\n",
    "* So compute significance and CI are easy"
   ]
  },
  {
   "cell_type": "markdown",
   "metadata": {
    "slideshow": {
     "slide_type": "subslide"
    }
   },
   "source": [
    "* *What if we don't know the distribution of some statistics (e.g. placeness score for a neuron)?*\n",
    "* *What if we don't know what to expect under null hypothesis?*\n",
    "\n",
    "* *What if we cannot easily find a generative model for data (e.g. our `coin_flip` function)?*\n",
    "    * So we cannot do millions of simulations like in Homework 3....\n",
    "    * You don't want to redo experiments thousands of time as well!"
   ]
  },
  {
   "cell_type": "markdown",
   "metadata": {
    "slideshow": {
     "slide_type": "fragment"
    }
   },
   "source": [
    "## Boots trapping come to rescue!"
   ]
  },
  {
   "cell_type": "markdown",
   "metadata": {
    "slideshow": {
     "slide_type": "subslide"
    }
   },
   "source": [
    "**Bootstrap Procedure** for a statistics $\\hat\\theta$\n",
    "\n",
    "* You get $n$ data points $X$ from experiments. You get one statistical estimate $\\hat \\theta(X)$\n",
    "* Repeat $N$ times (like $1000000$):\n",
    "    * Sample $n$ data with replacement from $X$, you get $X^{(i)}$\n",
    "    * Compute your statistics on the resampled data $\\hat \\theta(X^{(i)})$\n",
    "* Collect your resampled statistics, and plot the distribution $\\{\\hat \\theta(X^{(1)}),\\{\\hat \\theta(X^{(2)})....\\}$\n",
    "* Then you can estimate the variability of the statistics!"
   ]
  },
  {
   "cell_type": "markdown",
   "metadata": {
    "slideshow": {
     "slide_type": "subslide"
    }
   },
   "source": [
    "* The way of resmpling / shuffle is key!\n",
    "* If you resample based on null hypothesis, then you are simulating the null hypothesis.  \n",
    "    * e.g. Merging all the data from test group and control group"
   ]
  },
  {
   "cell_type": "markdown",
   "metadata": {
    "slideshow": {
     "slide_type": "fragment"
    }
   },
   "source": [
    "* If you resample based on working hypothesis / model, then you are simulating the working hypothesis\n",
    "    * Resample data within each experiment condition."
   ]
  },
  {
   "cell_type": "markdown",
   "metadata": {
    "slideshow": {
     "slide_type": "slide"
    }
   },
   "source": [
    "# Bootstrap Works. (Can Converge Back to Analytical Estimates)"
   ]
  },
  {
   "cell_type": "markdown",
   "metadata": {
    "slideshow": {
     "slide_type": "fragment"
    }
   },
   "source": [
    "We want to know the mean of a distribution, and our confidence interval on that statistics\n",
    "\n",
    "* Analytically we knoe standard error of the mean $ste=std/\\sqrt{n}$\n",
    "* Can we estimate that through bootstrapping?"
   ]
  },
  {
   "cell_type": "code",
   "execution_count": 1,
   "metadata": {
    "slideshow": {
     "slide_type": "slide"
    }
   },
   "outputs": [],
   "source": [
    "import numpy as np\n",
    "import matplotlib.pylab as plt"
   ]
  },
  {
   "cell_type": "code",
   "execution_count": 2,
   "metadata": {
    "slideshow": {
     "slide_type": "fragment"
    }
   },
   "outputs": [],
   "source": [
    "np.random.choice?"
   ]
  },
  {
   "cell_type": "code",
   "execution_count": 4,
   "metadata": {
    "slideshow": {
     "slide_type": "subslide"
    }
   },
   "outputs": [],
   "source": [
    "data = np.array([4,4,5,7,7,8,9])"
   ]
  },
  {
   "cell_type": "code",
   "execution_count": 5,
   "metadata": {
    "slideshow": {
     "slide_type": "fragment"
    }
   },
   "outputs": [
    {
     "data": {
      "text/plain": [
       "6.285714285714286"
      ]
     },
     "execution_count": 5,
     "metadata": {},
     "output_type": "execute_result"
    }
   ],
   "source": [
    "np.mean(data)"
   ]
  },
  {
   "cell_type": "code",
   "execution_count": 6,
   "metadata": {
    "slideshow": {
     "slide_type": "fragment"
    }
   },
   "outputs": [],
   "source": [
    "data_sem = np.std(data) / np.sqrt(len(data))"
   ]
  },
  {
   "cell_type": "code",
   "execution_count": 7,
   "metadata": {
    "slideshow": {
     "slide_type": "subslide"
    }
   },
   "outputs": [
    {
     "data": {
      "image/png": "[encoded data removed]",
      "text/plain": [
       "<Figure size 432x288 with 1 Axes>"
      ]
     },
     "metadata": {
      "needs_background": "light"
     },
     "output_type": "display_data"
    }
   ],
   "source": [
    "bstrp_num = 1000\n",
    "bstrp_size = len(data)\n",
    "bstrp_data = np.random.choice(data, size=(bstrp_num, 7), replace=True)\n",
    "bstrp_means = np.mean(bstrp_data,axis=1)\n",
    "plt.figure\n",
    "plt.hist(bstrp_means,bins=25)\n",
    "plt.show()"
   ]
  },
  {
   "cell_type": "code",
   "execution_count": 8,
   "metadata": {
    "slideshow": {
     "slide_type": "subslide"
    }
   },
   "outputs": [
    {
     "name": "stdout",
     "output_type": "stream",
     "text": [
      "mean of bootstrap means 6.286, Computed mean 6.286\n",
      "STD of bootstrap means 0.686, Computed SEM 0.691\n"
     ]
    }
   ],
   "source": [
    "print(\"mean of bootstrap means %.3f, Computed mean %.3f\" % (bstrp_means.mean(),np.mean(data)))\n",
    "print(\"STD of bootstrap means %.3f, Computed SEM %.3f\" % (bstrp_means.std(),data_sem))"
   ]
  },
  {
   "cell_type": "code",
   "execution_count": 9,
   "metadata": {},
   "outputs": [
    {
     "data": {
      "text/plain": [
       "0.6914724222896904"
      ]
     },
     "execution_count": 9,
     "metadata": {},
     "output_type": "execute_result"
    }
   ],
   "source": [
    "data_sem"
   ]
  },
  {
   "cell_type": "markdown",
   "metadata": {
    "slideshow": {
     "slide_type": "subslide"
    }
   },
   "source": [
    "## What if you don't have a analytical formula for standard error?"
   ]
  },
  {
   "cell_type": "code",
   "execution_count": 10,
   "metadata": {
    "slideshow": {
     "slide_type": "fragment"
    }
   },
   "outputs": [
    {
     "data": {
      "image/png": "[encoded data removed]",
      "text/plain": [
       "<Figure size 432x288 with 1 Axes>"
      ]
     },
     "metadata": {
      "needs_background": "light"
     },
     "output_type": "display_data"
    },
    {
     "name": "stdout",
     "output_type": "stream",
     "text": [
      "mean of bootstrap median 6.252, Computed median 7.000\n",
      "STD of bootstrap median 1.275, Computed SEM 0.867\n"
     ]
    }
   ],
   "source": [
    "bstrp_num = 1000\n",
    "bstrp_size = len(data)\n",
    "bstrp_data = np.random.choice(data, size=(bstrp_num, 7), replace=True)\n",
    "bstrp_median = np.median(bstrp_data,axis=1)\n",
    "plt.figure\n",
    "plt.hist(bstrp_median,bins=25)\n",
    "plt.show()\n",
    "print(\"mean of bootstrap median %.3f, Computed median %.3f\" % (bstrp_median.mean(),np.median(data)))\n",
    "print(\"STD of bootstrap median %.3f, Computed SEM %.3f\" % (bstrp_median.std(),1.2533 * data_sem))"
   ]
  },
  {
   "cell_type": "markdown",
   "metadata": {
    "slideshow": {
     "slide_type": "slide"
    }
   },
   "source": [
    "## Can you bootstrap the maximum value in a set?"
   ]
  },
  {
   "cell_type": "code",
   "execution_count": null,
   "metadata": {},
   "outputs": [],
   "source": []
  },
  {
   "cell_type": "markdown",
   "metadata": {
    "slideshow": {
     "slide_type": "subslide"
    }
   },
   "source": [
    "## Can you bootstrap the 95% percentile from a 20 sample dataset?"
   ]
  },
  {
   "cell_type": "code",
   "execution_count": null,
   "metadata": {},
   "outputs": [],
   "source": []
  },
  {
   "cell_type": "markdown",
   "metadata": {
    "slideshow": {
     "slide_type": "slide"
    }
   },
   "source": [
    "### Cases when bootstrap can fail\n"
   ]
  },
  {
   "cell_type": "markdown",
   "metadata": {},
   "source": [
    "* Too Small of a Sample Size\n",
    "* Estimating Extreme Values\n",
    "* Distributions with Infinite Moments"
   ]
  },
  {
   "cell_type": "markdown",
   "metadata": {
    "slideshow": {
     "slide_type": "subslide"
    }
   },
   "source": [
    "* https://stats.stackexchange.com/questions/9664/what-are-examples-where-a-naive-bootstrap-fails\n",
    "* [Bootstrap Methods: A Guide for Practitioners and Researchers](https://www.amazon.com/dp/0471756210/) Chap 9, \"When Bootstrapping Fails Along with Some Remedies for Failures,\""
   ]
  },
  {
   "cell_type": "markdown",
   "metadata": {
    "slideshow": {
     "slide_type": "skip"
    }
   },
   "source": [
    "## Assumption underlying bootstrap"
   ]
  },
  {
   "cell_type": "markdown",
   "metadata": {
    "slideshow": {
     "slide_type": "slide"
    }
   },
   "source": [
    "# How Well Can I Estimate Orientation Tuning Parameters?"
   ]
  },
  {
   "cell_type": "markdown",
   "metadata": {
    "slideshow": {
     "slide_type": "fragment"
    }
   },
   "source": [
    "We know neurons in visual cortex fires different firing rate towards different orientation of lines.\n",
    "\n",
    "* Can we describe this relationship more quantitatively with some parameters?\n",
    "* How wide is the tuning? How sharp is the tuning?\n",
    "\n",
    "![](https://med.libretexts.org/@api/deki/files/7191/fig_v1_orientation_tuning_data.jpg?revision=1&size=bestfit&width=550&height=468)"
   ]
  },
  {
   "cell_type": "markdown",
   "metadata": {
    "slideshow": {
     "slide_type": "subslide"
    }
   },
   "source": [
    "> Sometimes neuroscientists need some functions that mathematicians have not developped analytical tools for...."
   ]
  },
  {
   "cell_type": "markdown",
   "metadata": {
    "slideshow": {
     "slide_type": "subslide"
    }
   },
   "source": [
    "[Von Mises Tuning curve](https://en.wikipedia.org/wiki/Von_Mises_distribution), \n",
    "### $$f(\\theta\\mid\\mu,\\kappa)={A\\over 2\\pi I_0(\\kappa)}\\exp(\\kappa \\cos(x-\\mu))$$"
   ]
  },
  {
   "cell_type": "markdown",
   "metadata": {
    "slideshow": {
     "slide_type": "subslide"
    }
   },
   "source": [
    "![PDF](https://upload.wikimedia.org/wikipedia/commons/thumb/b/b6/VonMises_distribution_PDF.png/640px-VonMises_distribution_PDF.png)"
   ]
  },
  {
   "cell_type": "markdown",
   "metadata": {
    "slideshow": {
     "slide_type": "subslide"
    }
   },
   "source": [
    "## What does the tuning curve look like?"
   ]
  },
  {
   "cell_type": "code",
   "execution_count": 60,
   "metadata": {
    "slideshow": {
     "slide_type": "fragment"
    }
   },
   "outputs": [],
   "source": [
    "def vonMises(theta, A=1, mu=0, kappa=1):\n",
    "    return A * np.exp(kappa * np.cos(theta-mu))"
   ]
  },
  {
   "cell_type": "code",
   "execution_count": 61,
   "metadata": {
    "slideshow": {
     "slide_type": "fragment"
    }
   },
   "outputs": [
    {
     "data": {
      "image/png": "[encoded data removed]",
      "text/plain": [
       "<Figure size 432x288 with 1 Axes>"
      ]
     },
     "metadata": {},
     "output_type": "display_data"
    }
   ],
   "source": [
    "theta = np.linspace(0, 2*np.pi, 100, endpoint=True)\n",
    "plt.polar(theta,vonMises(theta,mu=0.5,kappa=8))\n",
    "plt.show()"
   ]
  },
  {
   "cell_type": "markdown",
   "metadata": {
    "slideshow": {
     "slide_type": "subslide"
    }
   },
   "source": [
    "## Let's generate some data! "
   ]
  },
  {
   "cell_type": "code",
   "execution_count": 89,
   "metadata": {
    "slideshow": {
     "slide_type": "fragment"
    }
   },
   "outputs": [
    {
     "name": "stdout",
     "output_type": "stream",
     "text": [
      "[  0.   22.5  45.   67.5  90.  112.5 135.  157.5 180.  202.5 225.  247.5\n",
      " 270.  292.5 315.  337.5]\n"
     ]
    }
   ],
   "source": [
    "bin_num = 16\n",
    "trial_num = 10\n",
    "exp_theta = np.linspace(0, 2*np.pi, bin_num, endpoint=False)\n",
    "print(exp_theta / np.pi *180)\n",
    "tuning_ctr = 0\n",
    "kappa = 1\n",
    "mean_rsp = vonMises(exp_theta,A=10,mu=tuning_ctr,kappa=kappa)\n",
    "fr_rsp = np.random.poisson(mean_rsp[:,np.newaxis], (bin_num, trial_num))"
   ]
  },
  {
   "cell_type": "code",
   "execution_count": 104,
   "metadata": {
    "slideshow": {
     "slide_type": "subslide"
    }
   },
   "outputs": [
    {
     "data": {
      "image/png": "[encoded data removed]",
      "text/plain": [
       "<Figure size 432x288 with 1 Axes>"
      ]
     },
     "metadata": {},
     "output_type": "display_data"
    }
   ],
   "source": [
    "plt.figure()\n",
    "ax = plt.subplot(111, polar=True)\n",
    "c = plt.scatter(np.repeat(exp_theta[:,np.newaxis], trial_num, axis=1), fr_rsp, )#c=colors, s=area, cmap=cm.hsv\n",
    "ax.set_ylim(0,40)\n",
    "c.set_alpha(0.75)\n",
    "mean_rsp = fr_rsp.mean(axis=1)\n",
    "idx = list(range(bin_num)) + [0] # use cyclic index to plot a circle.\n",
    "ax.plot(exp_theta[idx], mean_rsp[idx], color=\"orange\",lw=3)\n",
    "plt.show()"
   ]
  },
  {
   "cell_type": "code",
   "execution_count": 90,
   "metadata": {
    "collapsed": true,
    "slideshow": {
     "slide_type": "subslide"
    }
   },
   "outputs": [
    {
     "data": {
      "text/plain": [
       "array([[0.        , 0.        , 0.        , 0.        , 0.        ,\n",
       "        0.        , 0.        , 0.        , 0.        , 0.        ],\n",
       "       [0.39269908, 0.39269908, 0.39269908, 0.39269908, 0.39269908,\n",
       "        0.39269908, 0.39269908, 0.39269908, 0.39269908, 0.39269908],\n",
       "       [0.78539816, 0.78539816, 0.78539816, 0.78539816, 0.78539816,\n",
       "        0.78539816, 0.78539816, 0.78539816, 0.78539816, 0.78539816],\n",
       "       [1.17809725, 1.17809725, 1.17809725, 1.17809725, 1.17809725,\n",
       "        1.17809725, 1.17809725, 1.17809725, 1.17809725, 1.17809725],\n",
       "       [1.57079633, 1.57079633, 1.57079633, 1.57079633, 1.57079633,\n",
       "        1.57079633, 1.57079633, 1.57079633, 1.57079633, 1.57079633],\n",
       "       [1.96349541, 1.96349541, 1.96349541, 1.96349541, 1.96349541,\n",
       "        1.96349541, 1.96349541, 1.96349541, 1.96349541, 1.96349541],\n",
       "       [2.35619449, 2.35619449, 2.35619449, 2.35619449, 2.35619449,\n",
       "        2.35619449, 2.35619449, 2.35619449, 2.35619449, 2.35619449],\n",
       "       [2.74889357, 2.74889357, 2.74889357, 2.74889357, 2.74889357,\n",
       "        2.74889357, 2.74889357, 2.74889357, 2.74889357, 2.74889357],\n",
       "       [3.14159265, 3.14159265, 3.14159265, 3.14159265, 3.14159265,\n",
       "        3.14159265, 3.14159265, 3.14159265, 3.14159265, 3.14159265],\n",
       "       [3.53429174, 3.53429174, 3.53429174, 3.53429174, 3.53429174,\n",
       "        3.53429174, 3.53429174, 3.53429174, 3.53429174, 3.53429174],\n",
       "       [3.92699082, 3.92699082, 3.92699082, 3.92699082, 3.92699082,\n",
       "        3.92699082, 3.92699082, 3.92699082, 3.92699082, 3.92699082],\n",
       "       [4.3196899 , 4.3196899 , 4.3196899 , 4.3196899 , 4.3196899 ,\n",
       "        4.3196899 , 4.3196899 , 4.3196899 , 4.3196899 , 4.3196899 ],\n",
       "       [4.71238898, 4.71238898, 4.71238898, 4.71238898, 4.71238898,\n",
       "        4.71238898, 4.71238898, 4.71238898, 4.71238898, 4.71238898],\n",
       "       [5.10508806, 5.10508806, 5.10508806, 5.10508806, 5.10508806,\n",
       "        5.10508806, 5.10508806, 5.10508806, 5.10508806, 5.10508806],\n",
       "       [5.49778714, 5.49778714, 5.49778714, 5.49778714, 5.49778714,\n",
       "        5.49778714, 5.49778714, 5.49778714, 5.49778714, 5.49778714],\n",
       "       [5.89048623, 5.89048623, 5.89048623, 5.89048623, 5.89048623,\n",
       "        5.89048623, 5.89048623, 5.89048623, 5.89048623, 5.89048623]])"
      ]
     },
     "execution_count": 90,
     "metadata": {},
     "output_type": "execute_result"
    }
   ],
   "source": [
    "np.repeat(exp_theta[:,np.newaxis], trial_num, axis=1)"
   ]
  },
  {
   "cell_type": "code",
   "execution_count": 87,
   "metadata": {
    "slideshow": {
     "slide_type": "fragment"
    }
   },
   "outputs": [
    {
     "data": {
      "text/plain": [
       "array([[28, 31, 30, 33, 22, 21, 24, 20, 39, 26],\n",
       "       [28, 21, 19, 16, 23, 19, 17, 30, 20, 14],\n",
       "       [ 9,  6, 11, 12, 15,  6,  7, 12,  6, 11],\n",
       "       [ 6,  6,  8,  5,  4,  8,  4,  5,  4,  3],\n",
       "       [ 3,  1,  2,  8,  2,  3,  4,  6,  2,  6],\n",
       "       [ 8,  3,  2,  4,  3,  5,  3,  7,  9,  6],\n",
       "       [15,  9,  8, 12, 10,  8,  9,  7, 14, 14],\n",
       "       [21, 19, 16, 19, 24, 23, 23, 22, 26, 17]])"
      ]
     },
     "execution_count": 87,
     "metadata": {},
     "output_type": "execute_result"
    }
   ],
   "source": [
    "fr_rsp"
   ]
  },
  {
   "cell_type": "markdown",
   "metadata": {
    "slideshow": {
     "slide_type": "subslide"
    }
   },
   "source": [
    "## We need to fit the data to estimate the parameter"
   ]
  },
  {
   "cell_type": "code",
   "execution_count": 109,
   "metadata": {
    "scrolled": true,
    "slideshow": {
     "slide_type": "fragment"
    }
   },
   "outputs": [
    {
     "data": {
      "text/plain": [
       "array([25.3, 25.8, 18.1, 15.4, 10.7,  6.1,  5.2,  5.1,  5. ,  4.3,  5.4,\n",
       "        6.4,  8.5, 12.4, 20.4, 23.4])"
      ]
     },
     "execution_count": 109,
     "metadata": {},
     "output_type": "execute_result"
    }
   ],
   "source": [
    "mean_rsp"
   ]
  },
  {
   "cell_type": "code",
   "execution_count": 105,
   "metadata": {
    "slideshow": {
     "slide_type": "fragment"
    }
   },
   "outputs": [],
   "source": [
    "from scipy.optimize import curve_fit"
   ]
  },
  {
   "cell_type": "markdown",
   "metadata": {},
   "source": [
    "https://docs.scipy.org/doc/scipy/reference/generated/scipy.optimize.curve_fit.html"
   ]
  },
  {
   "cell_type": "code",
   "execution_count": 115,
   "metadata": {
    "slideshow": {
     "slide_type": "subslide"
    }
   },
   "outputs": [
    {
     "data": {
      "text/plain": [
       "(array([9.88618537, 0.04308534, 0.95785168]),\n",
       " array([[ 1.18237719e-01, -1.52878781e-09, -1.27070614e-02],\n",
       "        [-1.52878781e-09,  1.01222906e-03,  1.61795988e-10],\n",
       "        [-1.27070614e-02,  1.61795988e-10,  1.88070154e-03]]))"
      ]
     },
     "execution_count": 115,
     "metadata": {},
     "output_type": "execute_result"
    }
   ],
   "source": [
    "xdata = np.repeat(exp_theta[:,np.newaxis], trial_num, axis=1).reshape(-1)\n",
    "ydata = fr_rsp.reshape(-1)\n",
    "curve_fit(vonMises, xdata, ydata, p0=[1,0,1])\n",
    "#curve_fit(vonMises, exp_theta, mean_rsp, p0=[1,0,1])"
   ]
  },
  {
   "cell_type": "code",
   "execution_count": 112,
   "metadata": {},
   "outputs": [
    {
     "data": {
      "text/plain": [
       "(1, 160)"
      ]
     },
     "execution_count": 112,
     "metadata": {},
     "output_type": "execute_result"
    }
   ],
   "source": [
    "ydata.shape"
   ]
  },
  {
   "cell_type": "code",
   "execution_count": 130,
   "metadata": {
    "slideshow": {
     "slide_type": "subslide"
    }
   },
   "outputs": [],
   "source": [
    "def resample_all(fr_rsp):\n",
    "    return np.random.choice(fr_rsp.reshape(-1), size=fr_rsp.shape, replace=True)\n",
    "    \n",
    "def resample_trials(fr_rsp):\n",
    "    new_trials = []\n",
    "    for i in range(fr_rsp.shape[0]):\n",
    "        frs = np.random.choice(fr_rsp[i, :], size=fr_rsp.shape[1], replace=True)\n",
    "        new_trials.append(frs)\n",
    "    return np.array(new_trials)\n",
    "    "
   ]
  },
  {
   "cell_type": "code",
   "execution_count": 131,
   "metadata": {
    "collapsed": true,
    "slideshow": {
     "slide_type": "subslide"
    }
   },
   "outputs": [
    {
     "data": {
      "text/plain": [
       "array([[31, 33, 31, 31, 33, 22, 22, 22, 22, 22],\n",
       "       [31, 30, 24, 28, 24, 28, 28, 31, 28, 29],\n",
       "       [18, 15, 13, 18, 18, 13, 18, 22, 18, 17],\n",
       "       [22,  8, 17,  8, 14,  9, 19, 14, 17, 18],\n",
       "       [11, 14, 13, 12,  6, 12, 14, 12,  6, 11],\n",
       "       [ 4,  9,  7,  4,  7,  4, 10,  9,  3,  7],\n",
       "       [ 5,  4,  4,  6,  6,  4,  6,  6,  6,  4],\n",
       "       [ 4,  9,  3, 10,  2,  3,  9,  9,  4,  2],\n",
       "       [ 3,  3,  3,  5,  3,  9,  3,  3,  3,  7],\n",
       "       [ 7,  5,  2,  6,  6,  3,  6,  3,  3,  5],\n",
       "       [ 4,  4,  7,  8,  4,  7,  8,  4,  7,  7],\n",
       "       [11, 11,  4,  6,  8,  6,  6,  4,  4,  4],\n",
       "       [ 9,  9, 10, 11, 11, 11,  5,  5,  9,  5],\n",
       "       [ 8, 17, 11, 13, 11, 17, 17,  6, 12, 12],\n",
       "       [17, 25, 22, 17, 22, 22, 22, 22, 17, 22],\n",
       "       [21, 23, 21, 20, 23, 23, 20, 25, 24, 25]])"
      ]
     },
     "execution_count": 131,
     "metadata": {},
     "output_type": "execute_result"
    }
   ],
   "source": [
    "resample_trials(fr_rsp)"
   ]
  },
  {
   "cell_type": "code",
   "execution_count": 133,
   "metadata": {
    "collapsed": true,
    "slideshow": {
     "slide_type": "subslide"
    }
   },
   "outputs": [
    {
     "data": {
      "text/plain": [
       "array([[ 5, 11,  9,  5,  9,  9, 10,  6, 23,  6],\n",
       "       [12, 25, 10,  7, 22, 21, 17, 17, 31,  5],\n",
       "       [ 5, 17, 29,  4, 16,  3,  4,  4, 25,  6],\n",
       "       [18, 19,  5,  2,  8,  7, 19, 10, 31,  4],\n",
       "       [ 2, 22, 14,  4,  9,  9,  7, 20,  2,  3],\n",
       "       [ 7, 22, 29,  8,  6, 25, 31, 24, 13,  5],\n",
       "       [19,  3,  6,  3,  7,  2, 25,  7, 22,  4],\n",
       "       [ 3,  6, 18,  3, 23,  8, 19,  3, 20,  5],\n",
       "       [ 9,  6,  3, 20, 20, 23, 31,  4,  5,  4],\n",
       "       [15,  7,  5, 11, 23,  3,  6, 25, 20, 19],\n",
       "       [22, 11,  7,  7, 10, 16, 26, 19, 24, 23],\n",
       "       [21,  6, 11,  4,  6, 22, 12,  4,  5, 14],\n",
       "       [ 3, 25,  9,  8, 23, 12, 24, 13, 17, 30],\n",
       "       [ 6,  5, 11, 25, 13, 13, 27, 19,  6, 12],\n",
       "       [ 7,  5,  4,  9, 17, 28, 17,  6,  2,  6],\n",
       "       [ 3,  6,  3, 22, 17,  6,  2,  8,  5, 22]])"
      ]
     },
     "execution_count": 133,
     "metadata": {},
     "output_type": "execute_result"
    }
   ],
   "source": [
    "resample_all(fr_rsp)"
   ]
  },
  {
   "cell_type": "code",
   "execution_count": 162,
   "metadata": {
    "slideshow": {
     "slide_type": "subslide"
    }
   },
   "outputs": [
    {
     "data": {
      "image/png": "[encoded data removed]",
      "text/plain": [
       "<Figure size 864x432 with 2 Axes>"
      ]
     },
     "metadata": {},
     "output_type": "display_data"
    }
   ],
   "source": [
    "bstrp_fr = resample_trials(fr_rsp)\n",
    "bstrp_null_fr = resample_all(fr_rsp)\n",
    "\n",
    "plt.figure(figsize=[12,6])\n",
    "ax = plt.subplot(121, polar=True)\n",
    "c = plt.scatter(np.repeat(exp_theta[:,np.newaxis], trial_num, axis=1), bstrp_fr, )#c=colors, s=area, cmap=cm.hsv\n",
    "ax.set_ylim(0,40)\n",
    "c.set_alpha(0.75)\n",
    "mean_rsp = bstrp_fr.mean(axis=1)\n",
    "idx = list(range(bin_num)) + [0] # use cyclic index to plot a circle.\n",
    "ax.plot(exp_theta[idx], mean_rsp[idx], color=\"orange\",lw=3)\n",
    "ax.set_title(\"Within condition shuffling\")\n",
    "ax = plt.subplot(122, polar=True)\n",
    "c = plt.scatter(np.repeat(exp_theta[:,np.newaxis], trial_num, axis=1), bstrp_null_fr, )#c=colors, s=area, cmap=cm.hsv\n",
    "ax.set_ylim(0,40)\n",
    "c.set_alpha(0.75)\n",
    "mean_rsp = bstrp_null_fr.mean(axis=1)\n",
    "idx = list(range(bin_num)) + [0] # use cyclic index to plot a circle.\n",
    "ax.plot(exp_theta[idx], mean_rsp[idx], color=\"orange\",lw=3)\n",
    "ax.set_title(\"All trials shuffling\")\n",
    "plt.show()"
   ]
  },
  {
   "cell_type": "code",
   "execution_count": 143,
   "metadata": {
    "slideshow": {
     "slide_type": "subslide"
    }
   },
   "outputs": [],
   "source": [
    "xdata = np.repeat(exp_theta[:,np.newaxis], trial_num, axis=1).reshape(-1)\n",
    "param, _ = curve_fit(vonMises, xdata, bstrp_fr.reshape(-1), p0=[1,0,1])\n",
    "param_null, _ = curve_fit(vonMises, xdata, bstrp_null_fr.reshape(-1), p0=[1,0,1])"
   ]
  },
  {
   "cell_type": "code",
   "execution_count": 144,
   "metadata": {
    "slideshow": {
     "slide_type": "fragment"
    }
   },
   "outputs": [
    {
     "data": {
      "text/plain": [
       "array([9.86460557, 0.07899087, 1.02121318])"
      ]
     },
     "execution_count": 144,
     "metadata": {},
     "output_type": "execute_result"
    }
   ],
   "source": [
    "param"
   ]
  },
  {
   "cell_type": "code",
   "execution_count": 145,
   "metadata": {
    "slideshow": {
     "slide_type": "fragment"
    }
   },
   "outputs": [
    {
     "data": {
      "text/plain": [
       "array([13.14460974,  3.77981297,  0.15475158])"
      ]
     },
     "execution_count": 145,
     "metadata": {},
     "output_type": "execute_result"
    }
   ],
   "source": [
    "param_null"
   ]
  },
  {
   "cell_type": "code",
   "execution_count": 164,
   "metadata": {
    "slideshow": {
     "slide_type": "subslide"
    }
   },
   "outputs": [
    {
     "name": "stdout",
     "output_type": "stream",
     "text": [
      "21.850672006607056  sec\n"
     ]
    }
   ],
   "source": [
    "rsmp_n = 10000\n",
    "param_col = []\n",
    "param_null_col = []\n",
    "from time import time\n",
    "t0 = time()\n",
    "for rsmp_i in range(rsmp_n):\n",
    "    bstrp_fr = resample_trials(fr_rsp)\n",
    "    bstrp_null_fr = resample_all(fr_rsp)\n",
    "    param, _ = curve_fit(vonMises, xdata, bstrp_fr.reshape(-1), p0=[1,0,1])\n",
    "    param_null, _ = curve_fit(vonMises, xdata, bstrp_null_fr.reshape(-1), p0=[1,0,1])\n",
    "    param_col.append(param)\n",
    "    param_null_col.append(param_null)\n",
    "print(time()-t0, \" sec\")\n",
    "param_col = np.array(param_col)\n",
    "param_null_col = np.array(param_null_col)"
   ]
  },
  {
   "cell_type": "code",
   "execution_count": 165,
   "metadata": {
    "slideshow": {
     "slide_type": "subslide"
    }
   },
   "outputs": [
    {
     "data": {
      "image/png": "[encoded data removed]",
      "text/plain": [
       "<Figure size 720x432 with 1 Axes>"
      ]
     },
     "metadata": {},
     "output_type": "display_data"
    }
   ],
   "source": [
    "plt.figure(figsize=[10,6])\n",
    "plt.hist(param_null_col[:,2],bins=50,label=\"All resampled Null distribution\")\n",
    "plt.hist(param_col[:,2],bins=50,label=\"Within condition resampled distribution\")\n",
    "plt.title(\"Comparing distribution of peak parameter\")\n",
    "plt.xlabel(\"\\kappa\")\n",
    "plt.legend()\n",
    "plt.show()"
   ]
  },
  {
   "cell_type": "markdown",
   "metadata": {
    "slideshow": {
     "slide_type": "slide"
    }
   },
   "source": [
    "# Does my Place Cell Really Have \"Placeness\"?"
   ]
  },
  {
   "cell_type": "markdown",
   "metadata": {
    "slideshow": {
     "slide_type": "subslide"
    }
   },
   "source": [
    "Intuitively, placeness means the firing of Place cell $r(x)$ conveys information about the location $x$ of the subject. Neural system could be thought of as a noisy information channel, and one information theoretic measure of the channel capacity is the [Skaggs–McNaughton information index](http://papers.nips.cc/paper/671-an-information-theoretic-approach-to-deciphering-the-hippocampal-code.pdf) \n",
    "\n",
    "$$I = \\sum_x r(x)\\log_2{r(x)\\over \\bar r}p(x)$$\n",
    "\n",
    "Let's test if this is true with some real spiking dataset!  "
   ]
  },
  {
   "cell_type": "markdown",
   "metadata": {
    "slideshow": {
     "slide_type": "subslide"
    }
   },
   "source": [
    "[Spatial encoding in primate hippocampus during free navigation](https://journals.plos.org/plosbiology/article?id=10.1371/journal.pbio.3000546)\n",
    "\n",
    "[Open Dataset on Datadryad](https://datadryad.org/stash/dataset/doi:10.5061/dryad.kk63d49)"
   ]
  },
  {
   "cell_type": "code",
   "execution_count": 89,
   "metadata": {},
   "outputs": [],
   "source": [
    "import pickle\n",
    "spikeTime = pickle.load(open(\"SpkTime_data.p\", \"rb\"))\n",
    "position = pickle.load(open(\"Pos_data.p\", \"rb\"))"
   ]
  },
  {
   "cell_type": "code",
   "execution_count": 90,
   "metadata": {},
   "outputs": [
    {
     "data": {
      "text/plain": [
       "[(2, 0), (2, 1), (4, 0), (4, 1), (22, 0), (55, 0), (55, 1)]"
      ]
     },
     "execution_count": 90,
     "metadata": {},
     "output_type": "execute_result"
    }
   ],
   "source": [
    "list(spikeTime.keys())"
   ]
  },
  {
   "cell_type": "code",
   "execution_count": 91,
   "metadata": {},
   "outputs": [
    {
     "data": {
      "text/plain": [
       "['XPos', 'YPos', 'T']"
      ]
     },
     "execution_count": 91,
     "metadata": {},
     "output_type": "execute_result"
    }
   ],
   "source": [
    "list(position.keys())"
   ]
  },
  {
   "cell_type": "code",
   "execution_count": null,
   "metadata": {},
   "outputs": [],
   "source": []
  },
  {
   "cell_type": "markdown",
   "metadata": {
    "slideshow": {
     "slide_type": "subslide"
    }
   },
   "source": [
    "## Load Matlab dataset in python\n",
    "Here are the codes that I used to process the [Open Dataset on Datadryad](https://datadryad.org/stash/dataset/doi:10.5061/dryad.kk63d49) into python readable format. In case you are interested!"
   ]
  },
  {
   "cell_type": "code",
   "execution_count": 15,
   "metadata": {
    "slideshow": {
     "slide_type": "notes"
    }
   },
   "outputs": [],
   "source": [
    "import h5py\n",
    "import pickle\n",
    "hpdata = h5py.File(r'E:\\Datasets\\Spatial_encoding_marmoset_hippo_Data_01_Final\\Baloo_Track_01_180522_Data.mat')"
   ]
  },
  {
   "cell_type": "code",
   "execution_count": 84,
   "metadata": {},
   "outputs": [
    {
     "data": {
      "text/plain": [
       "2.0"
      ]
     },
     "execution_count": 84,
     "metadata": {},
     "output_type": "execute_result"
    }
   ],
   "source": [
    "list(hpdata['placeCellData'])\n",
    "hpdata[hpdata[hpdata['placeCellData']['SpikeTimes'][0,0]][0,0]]\n",
    "hpdata[hpdata['placeCellData']['ChannelNumber'][0,0]][0,0]"
   ]
  },
  {
   "cell_type": "code",
   "execution_count": 77,
   "metadata": {},
   "outputs": [],
   "source": [
    "XPos = hpdata[hpdata['behavioralData'][0,0]]['XPosHist'][:]\n",
    "YPos = hpdata[hpdata['behavioralData'][0,0]]['YPosHist'][:]\n",
    "Time = hpdata[hpdata['behavioralData'][0,0]]['vidTime'][:]"
   ]
  },
  {
   "cell_type": "code",
   "execution_count": 87,
   "metadata": {},
   "outputs": [
    {
     "name": "stdout",
     "output_type": "stream",
     "text": [
      "Chan 2-Unit 0 (1, 3157)\n",
      "Chan 2-Unit 1 (1, 523)\n",
      "Chan 4-Unit 0 (1, 416)\n",
      "Chan 4-Unit 1 (1, 544)\n",
      "Chan 22-Unit 0 (1, 1589)\n",
      "Chan 55-Unit 0 (1, 154)\n",
      "Chan 55-Unit 1 (1, 2756)\n"
     ]
    }
   ],
   "source": [
    "spikeTime = {}\n",
    "for ch_i in range(len(hpdata['placeCellData']['SpikeTimes'])):\n",
    "    for unit in range(len(hpdata[hpdata['placeCellData']['SpikeTimes'][ch_i,0]])):\n",
    "        chan_n = hpdata[hpdata['placeCellData']['ChannelNumber'][ch_i,0]][0,0]\n",
    "        print(\"Chan %d-Unit %d\"%(chan_n, unit), hpdata[hpdata[hpdata['placeCellData']['SpikeTimes'][ch_i,0]][unit,0]][:].shape)\n",
    "        spikeTime[(int(chan_n), unit)] = hpdata[hpdata[hpdata['placeCellData']['SpikeTimes'][ch_i,0]][unit,0]][:]"
   ]
  },
  {
   "cell_type": "code",
   "execution_count": 88,
   "metadata": {},
   "outputs": [],
   "source": [
    "pickle.dump(spikeTime, open(\"SpkTime_data.p\", \"wb\"))\n",
    "pickle.dump({\"XPos\":XPos, \"YPos\":YPos, \"T\":Time}, open(\"Pos_data.p\", \"wb\"))"
   ]
  },
  {
   "cell_type": "markdown",
   "metadata": {
    "slideshow": {
     "slide_type": "skip"
    }
   },
   "source": [
    "# Test The Neuron Firing Synchrony "
   ]
  },
  {
   "cell_type": "markdown",
   "metadata": {
    "slideshow": {
     "slide_type": "skip"
    }
   },
   "source": [
    "People have hypothesized that synchrony of neurons could \"mean something\", e.g. binding of features.\n",
    "\n",
    "[Synchrony and the binding problem in macaque visual cortex](https://jov.arvojournals.org/article.aspx?articleid=2193657)"
   ]
  },
  {
   "cell_type": "code",
   "execution_count": null,
   "metadata": {
    "slideshow": {
     "slide_type": "skip"
    }
   },
   "outputs": [],
   "source": []
  },
  {
   "cell_type": "markdown",
   "metadata": {
    "slideshow": {
     "slide_type": "slide"
    }
   },
   "source": [
    "# Useful Tutorials of Bootstrap in Neuroscience and Biology\n",
    "\n",
    "* https://courses.washington.edu/matlab1/Bootstrap_examples.html \n",
    "* http://bebi103.caltech.edu.s3-website-us-east-1.amazonaws.com/2019a/content/recitations/bootstrapping.html\n",
    "* https://github.com/marcel-goldschen-ohm/CompNeuroSpring2019\n",
    "    * https://github.com/marcel-goldschen-ohm/CompNeuroSpring2019/tree/master/lecture_05_mle_bootstrap"
   ]
  }
 ],
 "metadata": {
  "celltoolbar": "幻灯片",
  "kernelspec": {
   "display_name": "Python 3",
   "language": "python",
   "name": "python3"
  },
  "language_info": {
   "codemirror_mode": {
    "name": "ipython",
    "version": 3
   },
   "file_extension": ".py",
   "mimetype": "text/x-python",
   "name": "python",
   "nbconvert_exporter": "python",
   "pygments_lexer": "ipython3",
   "version": "3.7.1"
  },
  "toc": {
   "base_numbering": 1,
   "nav_menu": {},
   "number_sections": true,
   "sideBar": true,
   "skip_h1_title": false,
   "title_cell": "Table of Contents",
   "title_sidebar": "Contents",
   "toc_cell": false,
   "toc_position": {},
   "toc_section_display": true,
   "toc_window_display": false
  },
  "varInspector": {
   "cols": {
    "lenName": 16,
    "lenType": 16,
    "lenVar": 40
   },
   "kernels_config": {
    "python": {
     "delete_cmd_postfix": "",
     "delete_cmd_prefix": "del ",
     "library": "var_list.py",
     "varRefreshCmd": "print(var_dic_list())"
    },
    "r": {
     "delete_cmd_postfix": ") ",
     "delete_cmd_prefix": "rm(",
     "library": "var_list.r",
     "varRefreshCmd": "cat(var_dic_list()) "
    }
   },
   "types_to_exclude": [
    "module",
    "function",
    "builtin_function_or_method",
    "instance",
    "_Feature"
   ],
   "window_display": false
  }
 },
 "nbformat": 4,
 "nbformat_minor": 2
}
